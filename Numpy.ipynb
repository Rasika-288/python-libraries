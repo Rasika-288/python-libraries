{
  "nbformat": 4,
  "nbformat_minor": 0,
  "metadata": {
    "kernelspec": {
      "display_name": "Python 3",
      "language": "python",
      "name": "python3"
    },
    "language_info": {
      "codemirror_mode": {
        "name": "ipython",
        "version": 3
      },
      "file_extension": ".py",
      "mimetype": "text/x-python",
      "name": "python",
      "nbconvert_exporter": "python",
      "pygments_lexer": "ipython3",
      "version": "3.6.6"
    },
    "colab": {
      "name": "Numpy.ipynb",
      "provenance": [],
      "toc_visible": true
    }
  },
  "cells": [
    {
      "cell_type": "markdown",
      "metadata": {
        "id": "x8sTYlRmYwHY"
      },
      "source": [
        "# 1. The Numpy Package "
      ]
    },
    {
      "cell_type": "markdown",
      "metadata": {
        "id": "ieFH4c0jYwHb"
      },
      "source": [
        "## 1.1 Numpy Array Basics"
      ]
    },
    {
      "cell_type": "code",
      "metadata": {
        "id": "4DDJhWOWYwHc"
      },
      "source": [
        "import numpy as np #import numpy"
      ],
      "execution_count": null,
      "outputs": []
    },
    {
      "cell_type": "code",
      "metadata": {
        "id": "J7OPmsjQYwHk"
      },
      "source": [
        "l = list(range(1,11)) #create a list\n",
        "l"
      ],
      "execution_count": null,
      "outputs": []
    },
    {
      "cell_type": "code",
      "metadata": {
        "id": "2DYX5aC2YwHs"
      },
      "source": [
        "my_array = np.array(l) #transform list into a numpy array (ndarray)\n",
        "my_array"
      ],
      "execution_count": null,
      "outputs": []
    },
    {
      "cell_type": "code",
      "metadata": {
        "id": "3eNLSA_NYwHy"
      },
      "source": [
        "type(my_array) "
      ],
      "execution_count": null,
      "outputs": []
    },
    {
      "cell_type": "code",
      "metadata": {
        "id": "PbSlImPXYwH3"
      },
      "source": [
        "for i in my_array: # same as lists, ndarrays store multiple elements (is iterable) \n",
        "    print(i)"
      ],
      "execution_count": null,
      "outputs": []
    },
    {
      "cell_type": "code",
      "metadata": {
        "id": "WWIvO1XRYwH-"
      },
      "source": [
        "l = [1, 2.5, \"Dog\", True] #lists can store different datatypes"
      ],
      "execution_count": null,
      "outputs": []
    },
    {
      "cell_type": "code",
      "metadata": {
        "id": "O6DQrk9tYwID"
      },
      "source": [
        "for i in l:\n",
        "    print(type(i))"
      ],
      "execution_count": null,
      "outputs": []
    },
    {
      "cell_type": "code",
      "metadata": {
        "id": "WON4r0HbYwIK"
      },
      "source": [
        "a = np.array(l) #in ndarrays, all elements must have same datatype; numpy transforms automatically\n",
        "a"
      ],
      "execution_count": null,
      "outputs": []
    },
    {
      "cell_type": "code",
      "metadata": {
        "id": "gd0kE3ZbYwIP"
      },
      "source": [
        "for i in a:\n",
        "    print(type(i))"
      ],
      "execution_count": null,
      "outputs": []
    },
    {
      "cell_type": "code",
      "metadata": {
        "id": "HMEZIPGtYwIV"
      },
      "source": [
        "b = np.array([1., \"2\", 3])\n",
        "b"
      ],
      "execution_count": null,
      "outputs": []
    },
    {
      "cell_type": "code",
      "metadata": {
        "id": "hv9P1Z0BYwIb"
      },
      "source": [
        "type(b)"
      ],
      "execution_count": null,
      "outputs": []
    },
    {
      "cell_type": "code",
      "metadata": {
        "id": "kOzM7O0UYwIg"
      },
      "source": [
        "b.dtype #can check single datatype of all elements with attribute .dtype"
      ],
      "execution_count": null,
      "outputs": []
    },
    {
      "cell_type": "markdown",
      "metadata": {
        "id": "jlYeNylLYwIl"
      },
      "source": [
        "## 1.2 Numpy Array (element-wise operations / vectorization)"
      ]
    },
    {
      "cell_type": "code",
      "metadata": {
        "id": "AwWDe2M8YwIm"
      },
      "source": [
        "import numpy as np"
      ],
      "execution_count": null,
      "outputs": []
    },
    {
      "cell_type": "code",
      "metadata": {
        "id": "OlbqQPRVYwIw"
      },
      "source": [
        "np.arange(1,11) #create new ndarray from 1(incl.) to 11(excl.)"
      ],
      "execution_count": null,
      "outputs": []
    },
    {
      "cell_type": "code",
      "metadata": {
        "id": "5pMSJilqYwI1"
      },
      "source": [
        "np.arange(1,11,2) #only every second number is created "
      ],
      "execution_count": null,
      "outputs": []
    },
    {
      "cell_type": "code",
      "metadata": {
        "id": "4WFXHI-9YwI5"
      },
      "source": [
        "l = [1,2,3,4]\n",
        "l"
      ],
      "execution_count": null,
      "outputs": []
    },
    {
      "cell_type": "code",
      "metadata": {
        "id": "6hZoZ0mHYwI_"
      },
      "source": [
        "l*2 #this is not an element-wise operation"
      ],
      "execution_count": null,
      "outputs": []
    },
    {
      "cell_type": "code",
      "metadata": {
        "id": "gQ2EGB68YwJD"
      },
      "source": [
        "l1 = [] #element-wise operations with lists require a bunch of code\n",
        "for i in l:\n",
        "    l1.append(i*2)\n",
        "l1"
      ],
      "execution_count": null,
      "outputs": []
    },
    {
      "cell_type": "code",
      "metadata": {
        "id": "5GC7r586YwJN"
      },
      "source": [
        "a = np.arange(1,5) #create ndarray from 1 to 4 (both including)\n",
        "a"
      ],
      "execution_count": null,
      "outputs": []
    },
    {
      "cell_type": "code",
      "metadata": {
        "id": "rqjzpWTFYwJU"
      },
      "source": [
        "a * 2 "
      ],
      "execution_count": null,
      "outputs": []
    },
    {
      "cell_type": "code",
      "metadata": {
        "id": "OhAYX_eXYwJY"
      },
      "source": [
        "a + 2 #addition works as well"
      ],
      "execution_count": null,
      "outputs": []
    },
    {
      "cell_type": "code",
      "metadata": {
        "id": "FRR6pL8gYwJe"
      },
      "source": [
        "a**2 #all elements squared"
      ],
      "execution_count": null,
      "outputs": []
    },
    {
      "cell_type": "code",
      "metadata": {
        "id": "1yDwICwRYwJj"
      },
      "source": [
        "2**a #can serve as exponent as well"
      ],
      "execution_count": null,
      "outputs": []
    },
    {
      "cell_type": "code",
      "metadata": {
        "id": "NDX-BpOiYwJn"
      },
      "source": [
        "np.sqrt(a) #square root of all elements"
      ],
      "execution_count": null,
      "outputs": []
    },
    {
      "cell_type": "code",
      "metadata": {
        "id": "SRgINJGsYwJt"
      },
      "source": [
        "np.exp(a) #exponentiation with e"
      ],
      "execution_count": null,
      "outputs": []
    },
    {
      "cell_type": "code",
      "metadata": {
        "id": "BITiGcfmYwJz"
      },
      "source": [
        "np.log(a) #natural logarithm"
      ],
      "execution_count": null,
      "outputs": []
    },
    {
      "cell_type": "code",
      "metadata": {
        "id": "gRV38w6MYwJ4"
      },
      "source": [
        "a.sum() #sum of all elements (ndarray method)"
      ],
      "execution_count": null,
      "outputs": []
    },
    {
      "cell_type": "code",
      "metadata": {
        "id": "uxJykkmqYwJ8"
      },
      "source": [
        "np.sum(a) #sum of all elements"
      ],
      "execution_count": null,
      "outputs": []
    },
    {
      "cell_type": "code",
      "metadata": {
        "id": "crnZAIYmYwKB"
      },
      "source": [
        "sum(a)"
      ],
      "execution_count": null,
      "outputs": []
    },
    {
      "cell_type": "code",
      "metadata": {
        "id": "E-SKZIIaYwKH"
      },
      "source": [
        "a.size #number of elements in ndarray (ndarray attribute)"
      ],
      "execution_count": null,
      "outputs": []
    },
    {
      "cell_type": "code",
      "metadata": {
        "id": "1KxIozqwYwKL"
      },
      "source": [
        "len(a)"
      ],
      "execution_count": null,
      "outputs": []
    },
    {
      "cell_type": "code",
      "metadata": {
        "id": "FbZsQFGJYwKR"
      },
      "source": [
        "b = np.array([-2, -1, -0.5, 0, 1, 2, 3.5])\n",
        "b"
      ],
      "execution_count": null,
      "outputs": []
    },
    {
      "cell_type": "code",
      "metadata": {
        "id": "6CJZ81mPYwKW"
      },
      "source": [
        "np.abs(b) #absolute values of all elements"
      ],
      "execution_count": null,
      "outputs": []
    },
    {
      "cell_type": "code",
      "metadata": {
        "id": "N5EgG_iJYwKh"
      },
      "source": [
        "c = np.array([-1.7, -1.5, -0.2, 0.2, 1.5, 1.7, 2.0])\n",
        "c"
      ],
      "execution_count": null,
      "outputs": []
    },
    {
      "cell_type": "code",
      "metadata": {
        "id": "j2sq0Ye-YwKl"
      },
      "source": [
        "np.ceil(c) #element-wise rounding up"
      ],
      "execution_count": null,
      "outputs": []
    },
    {
      "cell_type": "code",
      "metadata": {
        "id": "m_JVb9i9YwKr"
      },
      "source": [
        "np.floor(c) #element-wise rounding down"
      ],
      "execution_count": null,
      "outputs": []
    },
    {
      "cell_type": "code",
      "metadata": {
        "id": "nNVAfq0zYwKx"
      },
      "source": [
        "np.around([-3.23, -0.76, 1.44, 2.65, ], decimals = 0) #evenly round all elements to the given number of decimals."
      ],
      "execution_count": null,
      "outputs": []
    },
    {
      "cell_type": "markdown",
      "metadata": {
        "id": "M1JgIRn8YwK2"
      },
      "source": [
        "## 1.3 Numpy Array (Indexing and Slicing)"
      ]
    },
    {
      "cell_type": "code",
      "metadata": {
        "id": "O-cVNHFLYwK2"
      },
      "source": [
        "import numpy as np"
      ],
      "execution_count": null,
      "outputs": []
    },
    {
      "cell_type": "code",
      "metadata": {
        "id": "jGLo3egsYwK6",
        "colab": {
          "base_uri": "https://localhost:8080/"
        },
        "outputId": "51a7e020-e51d-4b7d-8404-bbcef7b614a0"
      },
      "source": [
        "a = np.arange(1,11) #array from 1 to 10 (incl.)\n",
        "a"
      ],
      "execution_count": null,
      "outputs": [
        {
          "output_type": "execute_result",
          "data": {
            "text/plain": [
              "array([ 1,  2,  3,  4,  5,  6,  7,  8,  9, 10])"
            ]
          },
          "metadata": {
            "tags": []
          },
          "execution_count": 3
        }
      ]
    },
    {
      "cell_type": "code",
      "metadata": {
        "id": "5R7o7B05YwLF",
        "colab": {
          "base_uri": "https://localhost:8080/"
        },
        "outputId": "de8702d5-c917-41a6-fd6d-32b2d13fcc13"
      },
      "source": [
        "a[0] #first element at index position 0 (zero-based indexing!)"
      ],
      "execution_count": null,
      "outputs": [
        {
          "output_type": "execute_result",
          "data": {
            "text/plain": [
              "1"
            ]
          },
          "metadata": {
            "tags": []
          },
          "execution_count": 4
        }
      ]
    },
    {
      "cell_type": "code",
      "metadata": {
        "id": "YdKaEF1EYwLL",
        "colab": {
          "base_uri": "https://localhost:8080/"
        },
        "outputId": "3deebfbc-896a-4f1d-9704-efe66120af8d"
      },
      "source": [
        "a[1] #second element (index position 1)"
      ],
      "execution_count": null,
      "outputs": [
        {
          "output_type": "execute_result",
          "data": {
            "text/plain": [
              "2"
            ]
          },
          "metadata": {
            "tags": []
          },
          "execution_count": 5
        }
      ]
    },
    {
      "cell_type": "code",
      "metadata": {
        "id": "v0gq3kzzYwLP"
      },
      "source": [
        "a[-1] #last element"
      ],
      "execution_count": null,
      "outputs": []
    },
    {
      "cell_type": "code",
      "metadata": {
        "id": "l5V7KGHjYwLY",
        "colab": {
          "base_uri": "https://localhost:8080/"
        },
        "outputId": "3b84a807-0889-4aaa-9422-a6197c5a7b38"
      },
      "source": [
        "list(enumerate(a)) #list of index,value tuples"
      ],
      "execution_count": null,
      "outputs": [
        {
          "output_type": "execute_result",
          "data": {
            "text/plain": [
              "[(0, 1),\n",
              " (1, 2),\n",
              " (2, 3),\n",
              " (3, 4),\n",
              " (4, 5),\n",
              " (5, 6),\n",
              " (6, 7),\n",
              " (7, 8),\n",
              " (8, 9),\n",
              " (9, 10)]"
            ]
          },
          "metadata": {
            "tags": []
          },
          "execution_count": 6
        }
      ]
    },
    {
      "cell_type": "code",
      "metadata": {
        "id": "XZUjOmIaYwLf",
        "colab": {
          "base_uri": "https://localhost:8080/"
        },
        "outputId": "d1a8894d-c2c9-42ed-c33c-4d50115e70ec"
      },
      "source": [
        "a[2:6] #slicing from index position 2  till position 6  "
      ],
      "execution_count": null,
      "outputs": [
        {
          "output_type": "execute_result",
          "data": {
            "text/plain": [
              "array([3, 4, 5, 6])"
            ]
          },
          "metadata": {
            "tags": []
          },
          "execution_count": 7
        }
      ]
    },
    {
      "cell_type": "code",
      "metadata": {
        "id": "MUT0ELr4YwLk"
      },
      "source": [
        "a[:] #all elements"
      ],
      "execution_count": null,
      "outputs": []
    },
    {
      "cell_type": "code",
      "metadata": {
        "id": "jYHEVX5TYwLq"
      },
      "source": [
        "a[:5] #all elements until index position 5 "
      ],
      "execution_count": null,
      "outputs": []
    },
    {
      "cell_type": "code",
      "metadata": {
        "id": "0Qnl2oiHYwLv"
      },
      "source": [
        "a[6:] #all elements from index position 6  till the last element "
      ],
      "execution_count": null,
      "outputs": []
    },
    {
      "cell_type": "code",
      "metadata": {
        "id": "ZtcKtJiiYwLy"
      },
      "source": [
        "a[::2] #every second element, starting from first element"
      ],
      "execution_count": null,
      "outputs": []
    },
    {
      "cell_type": "code",
      "metadata": {
        "id": "XBCtE--6YwL2",
        "colab": {
          "base_uri": "https://localhost:8080/"
        },
        "outputId": "f6de5161-33f2-47bf-c974-d0410862c267"
      },
      "source": [
        "a[::3] #every third element, starting from first element"
      ],
      "execution_count": null,
      "outputs": [
        {
          "output_type": "execute_result",
          "data": {
            "text/plain": [
              "array([ 1,  4,  7, 10])"
            ]
          },
          "metadata": {
            "tags": []
          },
          "execution_count": 9
        }
      ]
    },
    {
      "cell_type": "code",
      "metadata": {
        "id": "J557OyovYwL6",
        "colab": {
          "base_uri": "https://localhost:8080/"
        },
        "outputId": "96288535-2276-4bef-e799-e56235d1a673"
      },
      "source": [
        "a[2::3] #every third element, starting from third element (index position 2)"
      ],
      "execution_count": null,
      "outputs": [
        {
          "output_type": "execute_result",
          "data": {
            "text/plain": [
              "array([3, 6, 9])"
            ]
          },
          "metadata": {
            "tags": []
          },
          "execution_count": 8
        }
      ]
    },
    {
      "cell_type": "code",
      "metadata": {
        "id": "NpPN8AfbYwL_",
        "colab": {
          "base_uri": "https://localhost:8080/"
        },
        "outputId": "4337e5a5-7c35-4c0a-a292-e2ee772dda78"
      },
      "source": [
        "a[0] = 100 #ndarrays are mutable, changing first element to 100 \n",
        "a"
      ],
      "execution_count": null,
      "outputs": [
        {
          "output_type": "execute_result",
          "data": {
            "text/plain": [
              "array([100,   2,   3,   4,   5,   6,   7,   8,   9,  10])"
            ]
          },
          "metadata": {
            "tags": []
          },
          "execution_count": 10
        }
      ]
    },
    {
      "cell_type": "code",
      "metadata": {
        "id": "DgveFg0IYwMH"
      },
      "source": [
        "a[-1] = 101 #changing last element to 101\n",
        "a"
      ],
      "execution_count": null,
      "outputs": []
    },
    {
      "cell_type": "code",
      "metadata": {
        "id": "30WIMnh1YwMN"
      },
      "source": [
        "a[2:5] = 50 #in contrast to lists, ndarrays allow braodcasting, assigning one new value to multiple elements\n",
        "a"
      ],
      "execution_count": null,
      "outputs": []
    },
    {
      "cell_type": "code",
      "metadata": {
        "id": "jIQ7wGdzYwMc"
      },
      "source": [
        "a[2:5] = [50, 51, 52] #assigning multiple new values to multiple elements\n",
        "a"
      ],
      "execution_count": null,
      "outputs": []
    },
    {
      "cell_type": "code",
      "metadata": {
        "id": "9OlLq1JGYwMf"
      },
      "source": [
        "a = np.arange(1,11) #creating new ndarray a\n",
        "a"
      ],
      "execution_count": null,
      "outputs": []
    },
    {
      "cell_type": "code",
      "metadata": {
        "id": "L7cZ1xjiYwMi"
      },
      "source": [
        "b = a[2:8] # making a slice of ndarray a and assign new variable b, \n",
        "b\n",
        "#try b =a[2:8].copy() afterwords"
      ],
      "execution_count": null,
      "outputs": []
    },
    {
      "cell_type": "code",
      "metadata": {
        "id": "0ETBH-A8YwMl"
      },
      "source": [
        "b[0] = 100 #changing first element of ndarray b\n",
        "b"
      ],
      "execution_count": null,
      "outputs": []
    },
    {
      "cell_type": "code",
      "metadata": {
        "id": "odEHtcFeYwMq"
      },
      "source": [
        "a #respective element of ndarray a has changed as well!!! "
      ],
      "execution_count": null,
      "outputs": []
    },
    {
      "cell_type": "code",
      "metadata": {
        "id": "YceKaaY_YwMv",
        "colab": {
          "base_uri": "https://localhost:8080/"
        },
        "outputId": "b48d3469-7337-4062-9432-8c43bc12a14f"
      },
      "source": [
        "l = list(range(1,11)) #lists behave differently\n",
        "l"
      ],
      "execution_count": null,
      "outputs": [
        {
          "output_type": "execute_result",
          "data": {
            "text/plain": [
              "[1, 2, 3, 4, 5, 6, 7, 8, 9, 10]"
            ]
          },
          "metadata": {
            "tags": []
          },
          "execution_count": 2
        }
      ]
    },
    {
      "cell_type": "code",
      "metadata": {
        "id": "P6XHeP2ZYwMy",
        "colab": {
          "base_uri": "https://localhost:8080/"
        },
        "outputId": "e4bf1381-d1c3-4e85-aaa0-e233019ad59a"
      },
      "source": [
        "m = l[2:8] #here a copy of the slice of l is created\n",
        "m"
      ],
      "execution_count": null,
      "outputs": [
        {
          "output_type": "execute_result",
          "data": {
            "text/plain": [
              "[3, 4, 5, 6, 7, 8]"
            ]
          },
          "metadata": {
            "tags": []
          },
          "execution_count": 3
        }
      ]
    },
    {
      "cell_type": "code",
      "metadata": {
        "id": "-GctQRbLYwM1"
      },
      "source": [
        "m[0] = 100 #changing first element of slice m\n",
        "m"
      ],
      "execution_count": null,
      "outputs": []
    },
    {
      "cell_type": "code",
      "metadata": {
        "id": "PHY-_vLUYwM5"
      },
      "source": [
        "l #no effect on l"
      ],
      "execution_count": null,
      "outputs": []
    },
    {
      "cell_type": "markdown",
      "metadata": {
        "collapsed": true,
        "id": "u5niHEnhYwM8"
      },
      "source": [
        "## 1.4 Numpy Array (Shape and multiple Dimensions)"
      ]
    },
    {
      "cell_type": "code",
      "metadata": {
        "id": "i2sfm4SGYwM9"
      },
      "source": [
        "import numpy as np"
      ],
      "execution_count": null,
      "outputs": []
    },
    {
      "cell_type": "code",
      "metadata": {
        "id": "ueMVm_6oYwNA",
        "colab": {
          "base_uri": "https://localhost:8080/"
        },
        "outputId": "de688632-e282-43f2-f624-b665ff1606be"
      },
      "source": [
        "a = np.arange(1,13) #creating array from 1 to 12\n",
        "a"
      ],
      "execution_count": null,
      "outputs": [
        {
          "output_type": "execute_result",
          "data": {
            "text/plain": [
              "array([ 1,  2,  3,  4,  5,  6,  7,  8,  9, 10, 11, 12])"
            ]
          },
          "metadata": {
            "tags": []
          },
          "execution_count": 11
        }
      ]
    },
    {
      "cell_type": "code",
      "metadata": {
        "id": "UAN4WtLZYwND",
        "colab": {
          "base_uri": "https://localhost:8080/"
        },
        "outputId": "99f7f1d0-4a73-4331-e310-6f7691d446b1"
      },
      "source": [
        "type(a)"
      ],
      "execution_count": null,
      "outputs": [
        {
          "output_type": "execute_result",
          "data": {
            "text/plain": [
              "numpy.ndarray"
            ]
          },
          "metadata": {
            "tags": []
          },
          "execution_count": 12
        }
      ]
    },
    {
      "cell_type": "code",
      "metadata": {
        "id": "8UGP1Oy-YwNG",
        "colab": {
          "base_uri": "https://localhost:8080/"
        },
        "outputId": "dbb52fd0-11bf-497d-d4cc-e8f4f3528779"
      },
      "source": [
        "a.dtype"
      ],
      "execution_count": null,
      "outputs": [
        {
          "output_type": "execute_result",
          "data": {
            "text/plain": [
              "dtype('int64')"
            ]
          },
          "metadata": {
            "tags": []
          },
          "execution_count": 13
        }
      ]
    },
    {
      "cell_type": "code",
      "metadata": {
        "id": "WQvtl3dSYwNL",
        "colab": {
          "base_uri": "https://localhost:8080/"
        },
        "outputId": "0139ac5b-29ec-497b-bba3-dfd9f621e4e8"
      },
      "source": [
        "a.shape #one-dimensional array, 12 elements in one dimension (vector)"
      ],
      "execution_count": null,
      "outputs": [
        {
          "output_type": "execute_result",
          "data": {
            "text/plain": [
              "(12,)"
            ]
          },
          "metadata": {
            "tags": []
          },
          "execution_count": 14
        }
      ]
    },
    {
      "cell_type": "code",
      "metadata": {
        "id": "2eObsM8zYwNO"
      },
      "source": [
        "a = a.reshape(2,6) #reshaping a: 2 rows / 6 columns"
      ],
      "execution_count": null,
      "outputs": []
    },
    {
      "cell_type": "code",
      "metadata": {
        "id": "yFtI8lUlYwNY",
        "colab": {
          "base_uri": "https://localhost:8080/"
        },
        "outputId": "ae71794c-ee6d-43e2-eb59-c482c4128415"
      },
      "source": [
        "a "
      ],
      "execution_count": null,
      "outputs": [
        {
          "output_type": "execute_result",
          "data": {
            "text/plain": [
              "array([[ 1,  2,  3,  4,  5,  6],\n",
              "       [ 7,  8,  9, 10, 11, 12]])"
            ]
          },
          "metadata": {
            "tags": []
          },
          "execution_count": 16
        }
      ]
    },
    {
      "cell_type": "code",
      "metadata": {
        "id": "ZFE0DAKzYwNb",
        "colab": {
          "base_uri": "https://localhost:8080/"
        },
        "outputId": "4c18b5a0-c254-4218-ff2a-6527475b1b8c"
      },
      "source": [
        "a.shape # two-dimensional array: 2 rows / 6 columns (matrix)"
      ],
      "execution_count": null,
      "outputs": [
        {
          "output_type": "execute_result",
          "data": {
            "text/plain": [
              "(2, 6)"
            ]
          },
          "metadata": {
            "tags": []
          },
          "execution_count": 17
        }
      ]
    },
    {
      "cell_type": "code",
      "metadata": {
        "id": "PxS_mr6tYwNf",
        "colab": {
          "base_uri": "https://localhost:8080/"
        },
        "outputId": "802ee292-7e78-47f3-ddb6-391b9289f0de"
      },
      "source": [
        "a = a.reshape(6,2) # two-dimensional array: 6 rows / 2 columns\n",
        "a"
      ],
      "execution_count": null,
      "outputs": [
        {
          "output_type": "execute_result",
          "data": {
            "text/plain": [
              "array([[ 1,  2],\n",
              "       [ 3,  4],\n",
              "       [ 5,  6],\n",
              "       [ 7,  8],\n",
              "       [ 9, 10],\n",
              "       [11, 12]])"
            ]
          },
          "metadata": {
            "tags": []
          },
          "execution_count": 18
        }
      ]
    },
    {
      "cell_type": "code",
      "metadata": {
        "id": "AwXSIWjAYwNi",
        "colab": {
          "base_uri": "https://localhost:8080/"
        },
        "outputId": "3bc05b0c-f5eb-4fc4-9ffd-7c7e57ca4dff"
      },
      "source": [
        "a.shape"
      ],
      "execution_count": null,
      "outputs": [
        {
          "output_type": "execute_result",
          "data": {
            "text/plain": [
              "(6, 2)"
            ]
          },
          "metadata": {
            "tags": []
          },
          "execution_count": 19
        }
      ]
    },
    {
      "cell_type": "code",
      "metadata": {
        "id": "nQjNcBOuYwNo",
        "colab": {
          "base_uri": "https://localhost:8080/"
        },
        "outputId": "30043c86-80a8-4bc5-ebb3-a5d0e44d74f9"
      },
      "source": [
        "a + 100 #element-wise operations still work"
      ],
      "execution_count": null,
      "outputs": [
        {
          "output_type": "execute_result",
          "data": {
            "text/plain": [
              "array([[101, 102],\n",
              "       [103, 104],\n",
              "       [105, 106],\n",
              "       [107, 108],\n",
              "       [109, 110],\n",
              "       [111, 112]])"
            ]
          },
          "metadata": {
            "tags": []
          },
          "execution_count": 20
        }
      ]
    },
    {
      "cell_type": "code",
      "metadata": {
        "colab": {
          "base_uri": "https://localhost:8080/"
        },
        "id": "BGyJ1RyC0dF8",
        "outputId": "bee2d276-4c5e-4477-c58f-06318e817e2c"
      },
      "source": [
        "a*2"
      ],
      "execution_count": null,
      "outputs": [
        {
          "output_type": "execute_result",
          "data": {
            "text/plain": [
              "array([[ 2,  4],\n",
              "       [ 6,  8],\n",
              "       [10, 12],\n",
              "       [14, 16],\n",
              "       [18, 20],\n",
              "       [22, 24]])"
            ]
          },
          "metadata": {
            "tags": []
          },
          "execution_count": 21
        }
      ]
    },
    {
      "cell_type": "code",
      "metadata": {
        "id": "12OAa91WYwNu",
        "colab": {
          "base_uri": "https://localhost:8080/"
        },
        "outputId": "a65be099-78f0-4412-d4f4-2f0f28c0aef0"
      },
      "source": [
        "a = a.reshape(2,2,3) #creating a three-dimensional array\n",
        "a"
      ],
      "execution_count": null,
      "outputs": [
        {
          "output_type": "execute_result",
          "data": {
            "text/plain": [
              "array([[[ 1,  2,  3],\n",
              "        [ 4,  5,  6]],\n",
              "\n",
              "       [[ 7,  8,  9],\n",
              "        [10, 11, 12]]])"
            ]
          },
          "metadata": {
            "tags": []
          },
          "execution_count": 22
        }
      ]
    },
    {
      "cell_type": "code",
      "metadata": {
        "id": "MXGxh3p-YwNy",
        "colab": {
          "base_uri": "https://localhost:8080/"
        },
        "outputId": "38a082b6-bd2f-4d44-f1aa-66f0daa7f54f"
      },
      "source": [
        "a.shape "
      ],
      "execution_count": null,
      "outputs": [
        {
          "output_type": "execute_result",
          "data": {
            "text/plain": [
              "(2, 2, 3)"
            ]
          },
          "metadata": {
            "tags": []
          },
          "execution_count": 23
        }
      ]
    },
    {
      "cell_type": "code",
      "metadata": {
        "id": "iHCxzOArYwN4",
        "colab": {
          "base_uri": "https://localhost:8080/"
        },
        "outputId": "c52bc14b-2b22-40fc-c536-bd8ddc00bfa3"
      },
      "source": [
        "b = np.arange(1,101).reshape(25,4) #creating 2-dim ndarray with one line of code\n",
        "b"
      ],
      "execution_count": null,
      "outputs": [
        {
          "output_type": "execute_result",
          "data": {
            "text/plain": [
              "array([[  1,   2,   3,   4],\n",
              "       [  5,   6,   7,   8],\n",
              "       [  9,  10,  11,  12],\n",
              "       [ 13,  14,  15,  16],\n",
              "       [ 17,  18,  19,  20],\n",
              "       [ 21,  22,  23,  24],\n",
              "       [ 25,  26,  27,  28],\n",
              "       [ 29,  30,  31,  32],\n",
              "       [ 33,  34,  35,  36],\n",
              "       [ 37,  38,  39,  40],\n",
              "       [ 41,  42,  43,  44],\n",
              "       [ 45,  46,  47,  48],\n",
              "       [ 49,  50,  51,  52],\n",
              "       [ 53,  54,  55,  56],\n",
              "       [ 57,  58,  59,  60],\n",
              "       [ 61,  62,  63,  64],\n",
              "       [ 65,  66,  67,  68],\n",
              "       [ 69,  70,  71,  72],\n",
              "       [ 73,  74,  75,  76],\n",
              "       [ 77,  78,  79,  80],\n",
              "       [ 81,  82,  83,  84],\n",
              "       [ 85,  86,  87,  88],\n",
              "       [ 89,  90,  91,  92],\n",
              "       [ 93,  94,  95,  96],\n",
              "       [ 97,  98,  99, 100]])"
            ]
          },
          "metadata": {
            "tags": []
          },
          "execution_count": 24
        }
      ]
    },
    {
      "cell_type": "markdown",
      "metadata": {
        "id": "ttW5g_IyYwN7"
      },
      "source": [
        "## 1.5 Numpy Array (Indexing and Slicing multi-dimensional arrays)"
      ]
    },
    {
      "cell_type": "markdown",
      "metadata": {
        "id": "bMW7NYSlyaAu"
      },
      "source": [
        ""
      ]
    },
    {
      "cell_type": "code",
      "metadata": {
        "id": "75zf7lefYwN8"
      },
      "source": [
        "import numpy as np"
      ],
      "execution_count": null,
      "outputs": []
    },
    {
      "cell_type": "code",
      "metadata": {
        "id": "djhT9sJ4YwN_",
        "colab": {
          "base_uri": "https://localhost:8080/"
        },
        "outputId": "d404433d-36b2-4195-f442-5a08603a3fa3"
      },
      "source": [
        "a = np.arange(1,13)\n",
        "a"
      ],
      "execution_count": null,
      "outputs": [
        {
          "output_type": "execute_result",
          "data": {
            "text/plain": [
              "array([ 1,  2,  3,  4,  5,  6,  7,  8,  9, 10, 11, 12])"
            ]
          },
          "metadata": {
            "tags": []
          },
          "execution_count": 26
        }
      ]
    },
    {
      "cell_type": "code",
      "metadata": {
        "id": "tD_at1PqYwOB",
        "colab": {
          "base_uri": "https://localhost:8080/"
        },
        "outputId": "a332c580-72aa-4640-ff80-99b99191869d"
      },
      "source": [
        "a = a.reshape(3,4) #creating matrix with 3 rows and 4 columns\n",
        "a"
      ],
      "execution_count": null,
      "outputs": [
        {
          "output_type": "execute_result",
          "data": {
            "text/plain": [
              "array([[ 1,  2,  3,  4],\n",
              "       [ 5,  6,  7,  8],\n",
              "       [ 9, 10, 11, 12]])"
            ]
          },
          "metadata": {
            "tags": []
          },
          "execution_count": 27
        }
      ]
    },
    {
      "cell_type": "code",
      "metadata": {
        "id": "U6d-042xYwOF",
        "colab": {
          "base_uri": "https://localhost:8080/"
        },
        "outputId": "d021d0be-296e-4a10-f134-3ee7db048a1d"
      },
      "source": [
        "a[0] #first row (index position 0)"
      ],
      "execution_count": null,
      "outputs": [
        {
          "output_type": "execute_result",
          "data": {
            "text/plain": [
              "array([1, 2, 3, 4])"
            ]
          },
          "metadata": {
            "tags": []
          },
          "execution_count": 28
        }
      ]
    },
    {
      "cell_type": "code",
      "metadata": {
        "id": "ipr5rr43YwOO"
      },
      "source": [
        "a[1] #second row (index position 1)"
      ],
      "execution_count": null,
      "outputs": []
    },
    {
      "cell_type": "code",
      "metadata": {
        "id": "Qlqfy0MFYwOR"
      },
      "source": [
        "a[2] #third row (index position 2)"
      ],
      "execution_count": null,
      "outputs": []
    },
    {
      "cell_type": "code",
      "metadata": {
        "id": "5Hnn3RdfYwOb"
      },
      "source": [
        "a[-1] #last row (index position -1)"
      ],
      "execution_count": null,
      "outputs": []
    },
    {
      "cell_type": "code",
      "metadata": {
        "id": "46kky9YIYwOe"
      },
      "source": [
        "a[1][1] #second row, second column"
      ],
      "execution_count": null,
      "outputs": []
    },
    {
      "cell_type": "code",
      "metadata": {
        "id": "7nm3qV4qYwOi"
      },
      "source": [
        "a[1,1] #more convenient in one square bracket"
      ],
      "execution_count": null,
      "outputs": []
    },
    {
      "cell_type": "code",
      "metadata": {
        "id": "vGgA07CGYwOm"
      },
      "source": [
        "a[2,-1] #third row, last column"
      ],
      "execution_count": null,
      "outputs": []
    },
    {
      "cell_type": "code",
      "metadata": {
        "id": "yrQFFlqVYwOp"
      },
      "source": [
        "a[:,0] #all rows, first column"
      ],
      "execution_count": null,
      "outputs": []
    },
    {
      "cell_type": "code",
      "metadata": {
        "id": "OiZfcC9iYwOt"
      },
      "source": [
        "a[:,1] #all rows, second column"
      ],
      "execution_count": null,
      "outputs": []
    },
    {
      "cell_type": "code",
      "metadata": {
        "id": "1w5ZTntQYwOv"
      },
      "source": [
        "a[:,-1] #all rows, last column"
      ],
      "execution_count": null,
      "outputs": []
    },
    {
      "cell_type": "code",
      "metadata": {
        "id": "4Px6ruccYwOy",
        "colab": {
          "base_uri": "https://localhost:8080/"
        },
        "outputId": "1abd6c78-26ce-43b6-fd75-6f786872790c"
      },
      "source": [
        "a[:2,1:3] #first two rows, column two and three"
      ],
      "execution_count": null,
      "outputs": [
        {
          "output_type": "execute_result",
          "data": {
            "text/plain": [
              "array([[2, 3],\n",
              "       [6, 7]])"
            ]
          },
          "metadata": {
            "tags": []
          },
          "execution_count": 29
        }
      ]
    },
    {
      "cell_type": "code",
      "metadata": {
        "id": "A25kpYRcYwO1"
      },
      "source": [
        "a"
      ],
      "execution_count": null,
      "outputs": []
    },
    {
      "cell_type": "code",
      "metadata": {
        "id": "vmXFKFLWYwO4",
        "colab": {
          "base_uri": "https://localhost:8080/"
        },
        "outputId": "c375bcc9-b58c-40d3-e0a5-c8a88efb59c5"
      },
      "source": [
        "a.T #Transpose: switching axes (attribute)"
      ],
      "execution_count": null,
      "outputs": [
        {
          "output_type": "execute_result",
          "data": {
            "text/plain": [
              "array([[ 1,  5,  9],\n",
              "       [ 2,  6, 10],\n",
              "       [ 3,  7, 11],\n",
              "       [ 4,  8, 12]])"
            ]
          },
          "metadata": {
            "tags": []
          },
          "execution_count": 30
        }
      ]
    },
    {
      "cell_type": "code",
      "metadata": {
        "id": "e3GHIEYtYwO7",
        "colab": {
          "base_uri": "https://localhost:8080/"
        },
        "outputId": "e6603bf9-fa89-4026-94f6-75b10987cc72"
      },
      "source": [
        "a.transpose() #same (method)"
      ],
      "execution_count": null,
      "outputs": [
        {
          "output_type": "execute_result",
          "data": {
            "text/plain": [
              "array([[ 1,  5,  9],\n",
              "       [ 2,  6, 10],\n",
              "       [ 3,  7, 11],\n",
              "       [ 4,  8, 12]])"
            ]
          },
          "metadata": {
            "tags": []
          },
          "execution_count": 31
        }
      ]
    },
    {
      "cell_type": "code",
      "metadata": {
        "id": "Ij9eicgwYwO9"
      },
      "source": [
        "a"
      ],
      "execution_count": null,
      "outputs": []
    },
    {
      "cell_type": "code",
      "metadata": {
        "id": "9fwTZe2JYwPA"
      },
      "source": [
        "a[:,-1] = a[:,-1] /4 #changing slice inplace"
      ],
      "execution_count": null,
      "outputs": []
    },
    {
      "cell_type": "code",
      "metadata": {
        "id": "82OxQYGbYwPG",
        "colab": {
          "base_uri": "https://localhost:8080/"
        },
        "outputId": "1c0469c7-3c4d-4162-9fde-76311b857eb6"
      },
      "source": [
        "a"
      ],
      "execution_count": null,
      "outputs": [
        {
          "output_type": "execute_result",
          "data": {
            "text/plain": [
              "array([[ 1,  2,  3,  1],\n",
              "       [ 5,  6,  7,  2],\n",
              "       [ 9, 10, 11,  3]])"
            ]
          },
          "metadata": {
            "tags": []
          },
          "execution_count": 33
        }
      ]
    },
    {
      "cell_type": "code",
      "metadata": {
        "id": "STxhydkzYwPM",
        "colab": {
          "base_uri": "https://localhost:8080/"
        },
        "outputId": "0d4799a1-684d-46f8-9840-34ed91564aef"
      },
      "source": [
        "a = np.arange(1,13).reshape(3,4) #creating a 3x4 matrix\n",
        "a"
      ],
      "execution_count": null,
      "outputs": [
        {
          "output_type": "execute_result",
          "data": {
            "text/plain": [
              "array([[ 1,  2,  3,  4],\n",
              "       [ 5,  6,  7,  8],\n",
              "       [ 9, 10, 11, 12]])"
            ]
          },
          "metadata": {
            "tags": []
          },
          "execution_count": 34
        }
      ]
    },
    {
      "cell_type": "code",
      "metadata": {
        "id": "1bCm4E14YwPQ",
        "colab": {
          "base_uri": "https://localhost:8080/"
        },
        "outputId": "6ce72e92-11a6-4c6e-d0aa-ee5ca7f9bc55"
      },
      "source": [
        "a.sum() #sum over all elements in matrix"
      ],
      "execution_count": null,
      "outputs": [
        {
          "output_type": "execute_result",
          "data": {
            "text/plain": [
              "78"
            ]
          },
          "metadata": {
            "tags": []
          },
          "execution_count": 35
        }
      ]
    },
    {
      "cell_type": "code",
      "metadata": {
        "id": "IgU4jf3BYwPT",
        "colab": {
          "base_uri": "https://localhost:8080/"
        },
        "outputId": "db6aecee-f564-42e7-8dc2-10cd42d6a503"
      },
      "source": [
        "a.sum(axis = 0) #sum of each column"
      ],
      "execution_count": null,
      "outputs": [
        {
          "output_type": "execute_result",
          "data": {
            "text/plain": [
              "array([15, 18, 21, 24])"
            ]
          },
          "metadata": {
            "tags": []
          },
          "execution_count": 36
        }
      ]
    },
    {
      "cell_type": "code",
      "metadata": {
        "id": "hu4_DAdZYwPV",
        "colab": {
          "base_uri": "https://localhost:8080/"
        },
        "outputId": "2c387d7c-a19d-42e8-a9fd-2b3b57df5a70"
      },
      "source": [
        "a.sum(axis = 1) #sum of each row"
      ],
      "execution_count": null,
      "outputs": [
        {
          "output_type": "execute_result",
          "data": {
            "text/plain": [
              "array([10, 26, 42])"
            ]
          },
          "metadata": {
            "tags": []
          },
          "execution_count": 37
        }
      ]
    },
    {
      "cell_type": "code",
      "metadata": {
        "id": "aDWy90RbYwPY",
        "colab": {
          "base_uri": "https://localhost:8080/"
        },
        "outputId": "5b0786a5-22ca-419d-8370-c0be40e61725"
      },
      "source": [
        "a.cumsum() #cumulative sum of all elements"
      ],
      "execution_count": null,
      "outputs": [
        {
          "output_type": "execute_result",
          "data": {
            "text/plain": [
              "array([ 1,  3,  6, 10, 15, 21, 28, 36, 45, 55, 66, 78])"
            ]
          },
          "metadata": {
            "tags": []
          },
          "execution_count": 38
        }
      ]
    },
    {
      "cell_type": "code",
      "metadata": {
        "id": "JC0PJh8RYwPa",
        "colab": {
          "base_uri": "https://localhost:8080/"
        },
        "outputId": "21ac696a-7a3e-4180-9041-374b64150616"
      },
      "source": [
        "a.cumsum(axis = 0) #cumulative sum for each column"
      ],
      "execution_count": null,
      "outputs": [
        {
          "output_type": "execute_result",
          "data": {
            "text/plain": [
              "array([[ 1,  2,  3,  4],\n",
              "       [ 6,  8, 10, 12],\n",
              "       [15, 18, 21, 24]])"
            ]
          },
          "metadata": {
            "tags": []
          },
          "execution_count": 39
        }
      ]
    },
    {
      "cell_type": "code",
      "metadata": {
        "id": "OYGXbDUzYwPc",
        "colab": {
          "base_uri": "https://localhost:8080/"
        },
        "outputId": "0f2a2faa-edeb-41b7-fcbf-2c0056e3edc5"
      },
      "source": [
        "a.cumsum(axis = 1) #cumulative sum for each row"
      ],
      "execution_count": null,
      "outputs": [
        {
          "output_type": "execute_result",
          "data": {
            "text/plain": [
              "array([[ 1,  3,  6, 10],\n",
              "       [ 5, 11, 18, 26],\n",
              "       [ 9, 19, 30, 42]])"
            ]
          },
          "metadata": {
            "tags": []
          },
          "execution_count": 40
        }
      ]
    },
    {
      "cell_type": "code",
      "metadata": {
        "id": "L9Ff4Op3YwPf",
        "colab": {
          "base_uri": "https://localhost:8080/"
        },
        "outputId": "c3d818e6-028d-48ac-f659-a5e19f1aca40"
      },
      "source": [
        "a"
      ],
      "execution_count": null,
      "outputs": [
        {
          "output_type": "execute_result",
          "data": {
            "text/plain": [
              "array([[ 1,  2,  3,  4],\n",
              "       [ 5,  6,  7,  8],\n",
              "       [ 9, 10, 11, 12]])"
            ]
          },
          "metadata": {
            "tags": []
          },
          "execution_count": 41
        }
      ]
    },
    {
      "cell_type": "code",
      "metadata": {
        "id": "7nKJpJJCYwPh",
        "colab": {
          "base_uri": "https://localhost:8080/"
        },
        "outputId": "9d95a066-a3ed-486f-9670-04ed7ba47a0c"
      },
      "source": [
        "a.prod() #product over all elements"
      ],
      "execution_count": null,
      "outputs": [
        {
          "output_type": "execute_result",
          "data": {
            "text/plain": [
              "479001600"
            ]
          },
          "metadata": {
            "tags": []
          },
          "execution_count": 42
        }
      ]
    },
    {
      "cell_type": "code",
      "metadata": {
        "id": "M3YRIjiUYwPk",
        "colab": {
          "base_uri": "https://localhost:8080/"
        },
        "outputId": "ab6693f0-1ec2-433a-ff00-5aa18aae0743"
      },
      "source": [
        "a.prod(axis = 0) #product over all elements in each column"
      ],
      "execution_count": null,
      "outputs": [
        {
          "output_type": "execute_result",
          "data": {
            "text/plain": [
              "array([ 45, 120, 231, 384])"
            ]
          },
          "metadata": {
            "tags": []
          },
          "execution_count": 43
        }
      ]
    },
    {
      "cell_type": "code",
      "metadata": {
        "id": "iNbv-gLEYwPo",
        "colab": {
          "base_uri": "https://localhost:8080/"
        },
        "outputId": "5e286a12-c0f4-4ef4-ac23-2b80394bd44e"
      },
      "source": [
        "a.prod(axis = 1) #product over all elements in each row"
      ],
      "execution_count": null,
      "outputs": [
        {
          "output_type": "execute_result",
          "data": {
            "text/plain": [
              "array([   24,  1680, 11880])"
            ]
          },
          "metadata": {
            "tags": []
          },
          "execution_count": 44
        }
      ]
    }
  ]
}